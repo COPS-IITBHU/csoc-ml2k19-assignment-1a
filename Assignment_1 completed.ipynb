{
 "cells": [
  {
   "cell_type": "code",
   "execution_count": 1,
   "metadata": {},
   "outputs": [],
   "source": [
    "import pickle\n",
    "import numpy as np"
   ]
  },
  {
   "cell_type": "markdown",
   "metadata": {},
   "source": [
    "### About libraries\n",
    "Numpy is a very useful python library. Using [NumPy](http://cs231n.github.io/python-numpy-tutorial/), mathematical and logical operations on arrays can be performed.\n",
    "<br>The [pickle](https://www.youtube.com/watch?v=2Tw39kZIbhs) module implements a fundamental, but powerful algorithm for serializing and de-serializing a Python object structure."
   ]
  },
  {
   "cell_type": "code",
   "execution_count": 4,
   "metadata": {},
   "outputs": [],
   "source": [
    "## Code to load the array\n",
    "with open('array.pickle', 'rb') as p:\n",
    "    arr = pickle.load(p)"
   ]
  },
  {
   "cell_type": "markdown",
   "metadata": {},
   "source": [
    "### Task 1: Write the code and check the size of the array"
   ]
  },
  {
   "cell_type": "code",
   "execution_count": 5,
   "metadata": {},
   "outputs": [
    {
     "data": {
      "text/plain": [
       "1000"
      ]
     },
     "execution_count": 5,
     "metadata": {},
     "output_type": "execute_result"
    }
   ],
   "source": [
    "## BEGIN CODE\n",
    "arr.size\n",
    "## END CODE"
   ]
  },
  {
   "cell_type": "markdown",
   "metadata": {},
   "source": [
    "Check that the size of the array (arr) is 1000. Please report in case fo any discrepancy."
   ]
  },
  {
   "cell_type": "markdown",
   "metadata": {},
   "source": [
    "### Task 2: Resize the array to a (20x50) matrix"
   ]
  },
  {
   "cell_type": "code",
   "execution_count": 11,
   "metadata": {},
   "outputs": [],
   "source": [
    "## BEGIN CODE\n",
    "arr=arr.reshape((20,50))\n",
    "arr=np.array(arr)\n",
    "## END CODE"
   ]
  },
  {
   "cell_type": "markdown",
   "metadata": {},
   "source": [
    "### Task 3: Find the transpose of this matrix"
   ]
  },
  {
   "cell_type": "code",
   "execution_count": 12,
   "metadata": {},
   "outputs": [],
   "source": [
    "## BEGIN CODE\n",
    "t=np.transpose(arr)\n",
    "## END CODE"
   ]
  },
  {
   "cell_type": "markdown",
   "metadata": {},
   "source": [
    "### Task 3: Find the dot product of the matrices created in Tasks 2 & 3"
   ]
  },
  {
   "cell_type": "code",
   "execution_count": 13,
   "metadata": {},
   "outputs": [],
   "source": [
    "## BEGIN CODE\n",
    "dotproduct=np.dot(t,arr)\n",
    "## END CODE"
   ]
  },
  {
   "cell_type": "markdown",
   "metadata": {},
   "source": [
    "### Task 4: Find the row wise sum of the resulting matrix"
   ]
  },
  {
   "cell_type": "code",
   "execution_count": 56,
   "metadata": {},
   "outputs": [],
   "source": [
    "## BEGIN CODE\n",
    "sum=[]\n",
    "for i in range(dotproduct.shape[0]):\n",
    "    tsum=np.sum(dotproduct[i])\n",
    "    sum.append(tsum)\n",
    "## END CODE"
   ]
  },
  {
   "cell_type": "markdown",
   "metadata": {},
   "source": [
    "### Task 5: Find the cube root of all elements in the resulting matrix"
   ]
  },
  {
   "cell_type": "code",
   "execution_count": 57,
   "metadata": {},
   "outputs": [],
   "source": [
    "## BEGIN CODE\n",
    "sum=np.array(sum)\n",
    "cuberoot=sum**(1/3)\n",
    "## END CODE"
   ]
  },
  {
   "cell_type": "markdown",
   "metadata": {},
   "source": [
    "### Task 6: Find the sine,cos and tan-1 value of all elements in the resulting matrix"
   ]
  },
  {
   "cell_type": "code",
   "execution_count": 58,
   "metadata": {},
   "outputs": [
    {
     "name": "stdout",
     "output_type": "stream",
     "text": [
      "[ 0.7165344  -0.28987595  0.14460277 -0.99026756 -0.79619463  0.53217094\n",
      "  0.76063918  0.67137973  0.69935765 -0.56389142  0.20844911 -0.99999913\n",
      "  0.9008487   0.82704955 -0.76843255 -0.54540835 -0.99363473 -0.99779548\n",
      "  0.26769348  0.20760815  0.70303047 -0.90160115 -0.51540786  0.10240593\n",
      " -0.81601872  0.16167228  0.9793103  -0.73154957 -0.96409958  0.9904323\n",
      "  0.75523423  0.93792963  0.93685681  0.04579424  0.2724118   0.65501613\n",
      " -0.99422582  0.97625652  0.54786594 -0.80070634  0.99334049 -0.24433096\n",
      " -0.1529234  -0.99993065 -0.76548918  0.91547526  0.90620971  0.394854\n",
      "  0.40796473 -0.93852955]\n"
     ]
    }
   ],
   "source": [
    "## BEGIN CODE(1 line of code for each)\n",
    "#for sine\n",
    "sine=np.sin(cuberoot)\n",
    "#for cos\n",
    "cosine=np.cos(cuberoot)\n",
    "#for tan-1\n",
    "tan_1=np.arctan(cuberoot)\n",
    "## END CODE"
   ]
  },
  {
   "cell_type": "markdown",
   "metadata": {},
   "source": [
    "# Bonus Task"
   ]
  },
  {
   "cell_type": "markdown",
   "metadata": {},
   "source": [
    "### Normalizing rows\n",
    "\n",
    "Normalization is a common technique we use in Machine Learning and Deep Learning is to normalize our data. Here, by normalization we mean changing x to $ \\frac{x}{\\| x\\|} $ (dividing each row vector of x by its norm).\n",
    "\n",
    "For example, if $$x = \n",
    "\\begin{bmatrix}\n",
    "    0 & 3 & 4 \\\\\n",
    "    2 & 6 & 4 \\\\\n",
    "\\end{bmatrix}\\tag{1}$$ then $$\\| x\\| = np.linalg.norm(x, axis = 1, keepdims = True) = \\begin{bmatrix}\n",
    "    5 \\\\\n",
    "    \\sqrt{56} \\\\\n",
    "\\end{bmatrix}\\tag{2} $$and        $$ x\\_normalized = \\frac{x}{\\| x\\|} = \\begin{bmatrix}\n",
    "    0 & \\frac{3}{5} & \\frac{4}{5} \\\\\n",
    "    \\frac{2}{\\sqrt{56}} & \\frac{6}{\\sqrt{56}} & \\frac{4}{\\sqrt{56}} \\\\\n",
    "\\end{bmatrix}\\tag{3}$$ Note that you can divide matrices of different sizes and it works fine: this is called broadcasting and you're going to learn about it in part 3.\n",
    "\n",
    "\n",
    "**Exercise**: Implement normalizeRows() to normalize the rows of a matrix . After applying this function to an input matrix x, each row of x should be a vector of unit length (meaning length 1)."
   ]
  },
  {
   "cell_type": "code",
   "execution_count": 48,
   "metadata": {},
   "outputs": [],
   "source": [
    "def normalizeRows(x):\n",
    "    \"\"\"\n",
    "    Implement a function that normalizes each row of the matrix x (to have unit length).\n",
    "    \n",
    "    Argument:\n",
    "    x -- A numpy matrix of shape (n, m)\n",
    "    \n",
    "    Returns:\n",
    "    x -- The normalized (by row) numpy matrix. You are allowed to modify x.\n",
    "    \"\"\"\n",
    "    \n",
    "    #Begin Here(≈ 2 lines of code)\n",
    "    norm=𝑛𝑝.𝑙𝑖𝑛𝑎𝑙𝑔.𝑛𝑜𝑟𝑚(x,𝑎𝑥𝑖𝑠=1,𝑘𝑒𝑒𝑝𝑑𝑖𝑚𝑠=𝑇𝑟𝑢𝑒)\n",
    "    # Compute x_norm as the norm 2 of x. Use np.linalg.norm(..., ord = 2, axis = ..., keepdims = True)\n",
    "    x_normf=x/norm\n",
    "    # Divide x by its norm.\n",
    "    \n",
    "    \n",
    "    #END CODE\n",
    "\n",
    "    return x_normf"
   ]
  },
  {
   "cell_type": "code",
   "execution_count": 52,
   "metadata": {},
   "outputs": [
    {
     "name": "stdout",
     "output_type": "stream",
     "text": [
      "normalizeRows(x) = [[0.         0.58123819 0.81373347]\n",
      " [0.81373347 0.34874292 0.46499055]]\n"
     ]
    }
   ],
   "source": [
    "x = np.array([\n",
    "    [0, 5, 7],\n",
    "    [7, 3, 4]])\n",
    "print(\"normalizeRows(x) = \" + str(normalizeRows(x)))"
   ]
  },
  {
   "cell_type": "markdown",
   "metadata": {},
   "source": [
    "**Expected Output**: \n",
    "\n",
    "<table style=\"width:60%\">\n",
    "\n",
    "   <tr> \n",
    "       <td> normalizeRows(x) </td> \n",
    "       <td> [[0.          0.58123819  0.81373347]\n",
    " <br>[0.81373347  0.34874292  0.46499055]</td> \n",
    "     </tr>\n",
    "    \n",
    "   \n",
    "</table>"
   ]
  },
  {
   "cell_type": "markdown",
   "metadata": {},
   "source": [
    "## Create submission file"
   ]
  },
  {
   "cell_type": "code",
   "execution_count": 59,
   "metadata": {},
   "outputs": [],
   "source": [
    "## Assign the name of the variable containing the final matrix of Task6 to VARIABLE_NAME variable.\n",
    "\n",
    "VARIABLE_NAME = tan_1\n",
    "with open('submission.pickle', 'wb') as p:\n",
    "    pickle.dump(VARIABLE_NAME, p)"
   ]
  }
 ],
 "metadata": {
  "kernelspec": {
   "display_name": "Python 3",
   "language": "python",
   "name": "python3"
  },
  "language_info": {
   "codemirror_mode": {
    "name": "ipython",
    "version": 3
   },
   "file_extension": ".py",
   "mimetype": "text/x-python",
   "name": "python",
   "nbconvert_exporter": "python",
   "pygments_lexer": "ipython3",
   "version": "3.7.1"
  }
 },
 "nbformat": 4,
 "nbformat_minor": 2
}
