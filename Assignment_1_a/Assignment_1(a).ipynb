{
 "cells": [
  {
   "cell_type": "code",
   "execution_count": 7,
   "metadata": {},
   "outputs": [],
   "source": [
    "import pickle\n",
    "import numpy as np"
   ]
  },
  {
   "cell_type": "markdown",
   "metadata": {},
   "source": [
    "### About libraries\n",
    "Numpy is a very useful python library. Using [NumPy](http://cs231n.github.io/python-numpy-tutorial/), mathematical and logical operations on arrays can be performed.\n",
    "<br>The [pickle](https://www.youtube.com/watch?v=2Tw39kZIbhs) module implements a fundamental, but powerful algorithm for serializing and de-serializing a Python object structure."
   ]
  },
  {
   "cell_type": "code",
   "execution_count": 8,
   "metadata": {},
   "outputs": [],
   "source": [
    "## Code to load the array\n",
    "with open('array.pickle', 'rb') as p:\n",
    "    arr = pickle.load(p)"
   ]
  },
  {
   "cell_type": "markdown",
   "metadata": {},
   "source": [
    "### Task 1: Write the code and check the size of the array"
   ]
  },
  {
   "cell_type": "code",
   "execution_count": 9,
   "metadata": {},
   "outputs": [
    {
     "name": "stdout",
     "output_type": "stream",
     "text": [
      "1000\n"
     ]
    }
   ],
   "source": [
    "## BEGIN CODE\n",
    "print(len(arr))\n",
    "## END CODE"
   ]
  },
  {
   "cell_type": "markdown",
   "metadata": {},
   "source": [
    "Check that the size of the array (arr) is 1000. Please report in case fo any discrepancy."
   ]
  },
  {
   "cell_type": "markdown",
   "metadata": {},
   "source": [
    "### Task 2: Resize the array to a (20x50) matrix"
   ]
  },
  {
   "cell_type": "code",
   "execution_count": 10,
   "metadata": {},
   "outputs": [
    {
     "name": "stdout",
     "output_type": "stream",
     "text": [
      "50\n"
     ]
    }
   ],
   "source": [
    "## BEGIN CODE\n",
    "arr = np.resize(arr,(50,20))\n",
    "    \n",
    "print(len(arr))\n",
    "## END CODE"
   ]
  },
  {
   "cell_type": "markdown",
   "metadata": {},
   "source": [
    "### Task 3: Find the transpose of this matrix"
   ]
  },
  {
   "cell_type": "code",
   "execution_count": 11,
   "metadata": {},
   "outputs": [
    {
     "data": {
      "text/plain": [
       "20"
      ]
     },
     "execution_count": 11,
     "metadata": {},
     "output_type": "execute_result"
    }
   ],
   "source": [
    "## BEGIN CODE\n",
    "trans_arr = arr.transpose()\n",
    "len(trans_arr)\n",
    "## END CODE"
   ]
  },
  {
   "cell_type": "markdown",
   "metadata": {},
   "source": [
    "### Task 3: Find the dot product of the matrices created in Tasks 2 & 3"
   ]
  },
  {
   "cell_type": "code",
   "execution_count": 12,
   "metadata": {},
   "outputs": [
    {
     "data": {
      "text/plain": [
       "50"
      ]
     },
     "execution_count": 12,
     "metadata": {},
     "output_type": "execute_result"
    }
   ],
   "source": [
    "## BEGIN CODE\n",
    "dot_arr = np.dot(arr,trans_arr)\n",
    "len(dot_arr)"
   ]
  },
  {
   "cell_type": "markdown",
   "metadata": {},
   "source": [
    "### Task 4: Find the row wise sum of the resulting matrix"
   ]
  },
  {
   "cell_type": "code",
   "execution_count": 13,
   "metadata": {},
   "outputs": [
    {
     "data": {
      "text/plain": [
       "array([2846185.62373607, 1873594.44295737, 2361027.81018116,\n",
       "       3135719.8706376 , 3019688.48419682, 3412121.71510996,\n",
       "       2316122.90865746, 2564626.10042831, 2568557.87874004,\n",
       "       2234424.63430471, 2428611.1360621 , 2845545.11735985,\n",
       "       2148899.44868764, 2183139.86517425, 2491096.68575032,\n",
       "       2995200.06825431, 1711756.7651671 , 2290418.15219147,\n",
       "       2736026.36411109, 2334102.54908191, 1950720.28126986,\n",
       "       2937136.56891259, 1946005.57011117, 2820954.08414548,\n",
       "       2302698.0683693 , 3085843.17068601, 3001822.82195083,\n",
       "       2447689.19360003, 2805692.26396518, 2568792.51088958,\n",
       "       2687738.32654443, 2507306.93369412, 2532677.39717161,\n",
       "       2352655.39464793, 1841966.00529172, 2777404.2635646 ,\n",
       "       2419924.8314605 , 2731298.00278802, 2098973.04321894,\n",
       "       2204935.4623818 , 2216275.17245887, 2523185.5960451 ,\n",
       "       2641355.81627463, 2362258.28767915, 3209367.79463244,\n",
       "       2789256.52514968, 2540275.10553885, 2766732.71436769,\n",
       "       2877951.57663704, 2055203.2549646 ])"
      ]
     },
     "execution_count": 13,
     "metadata": {},
     "output_type": "execute_result"
    }
   ],
   "source": [
    "## BEGIN CODE\n",
    "\"\"\"row_sum_vect = []\n",
    "for elem in dot_arr:\n",
    "    row_sum_vect.append(sum(elem))\n",
    "\"\"\"\n",
    "row_sum_vect = dot_arr.sum(axis = 1,dtype=float)\n",
    "row_sum_vect\n",
    "## END CODE"
   ]
  },
  {
   "cell_type": "markdown",
   "metadata": {},
   "source": [
    "### Task 5: Find the cube root of all elements in the resulting matrix"
   ]
  },
  {
   "cell_type": "code",
   "execution_count": 14,
   "metadata": {},
   "outputs": [
    {
     "data": {
      "text/plain": [
       "array([141.71671394, 123.27978355, 133.15792968, 146.36786994,\n",
       "       144.53977719, 150.54794726, 132.30833394, 136.8804274 ,\n",
       "       136.95034126, 130.73400632, 134.41652409, 141.70608248,\n",
       "       129.04426197, 129.72604766, 135.55957377, 144.14799709,\n",
       "       119.62281486, 131.81705127, 139.86426238, 132.64981368,\n",
       "       124.94867827, 143.21045136, 124.84793391, 141.29669571,\n",
       "       132.05220747, 145.58767712, 144.25416183, 134.76757802,\n",
       "       141.0414221 , 136.95451117, 139.03655382, 135.85297935,\n",
       "       136.30965696, 133.00034663, 122.58214133, 140.56580992,\n",
       "       134.2560788 , 139.78364546, 128.0370385 , 130.15632993,\n",
       "       130.37907448, 136.13915968, 138.23212031, 133.18105794,\n",
       "       147.50491673, 140.76547579, 136.44582474, 140.38554805,\n",
       "       142.24199259, 127.14079607])"
      ]
     },
     "execution_count": 14,
     "metadata": {},
     "output_type": "execute_result"
    }
   ],
   "source": [
    "## BEGIN CODE\n",
    "cube_root_vect = np.power(row_sum_vect, float(1/3))\n",
    "cube_root_vect\n",
    "## END CODE"
   ]
  },
  {
   "cell_type": "markdown",
   "metadata": {},
   "source": [
    "### Task 6: Find the sine,cos and tan-1 value of all elements in the resulting matrix"
   ]
  },
  {
   "cell_type": "code",
   "execution_count": 15,
   "metadata": {},
   "outputs": [
    {
     "data": {
      "text/plain": [
       "[array([0.61955008, 0.83600103, 0.72947107, 0.55385854, 0.58013762,\n",
       "        0.49169504, 0.73953319, 0.68352316, 0.68263197, 0.75774717,\n",
       "        0.71427087, 0.61969572, 0.77665957, 0.76910908, 0.70016728,\n",
       "        0.58569357, 0.86929818, 0.74527761, 0.64460062, 0.73550832,\n",
       "        0.81966549, 0.59887753, 0.82067146, 0.62528766, 0.74253481,\n",
       "        0.56514445, 0.58419071, 0.70996935, 0.62875839, 0.68257879,\n",
       "        0.6555774 , 0.6965019 , 0.69076055, 0.73134958, 0.84262029,\n",
       "        0.63519151, 0.71622791, 0.64567568, 0.7876126 , 0.76428777,\n",
       "        0.76177496, 0.69290919, 0.66611445, 0.7291949 , 0.53722723,\n",
       "        0.63249614, 0.68904014, 0.63761832, 0.61232778, 0.79715423]),\n",
       " array([-0.78495713, -0.54872787, -0.68401166, -0.83261078, -0.81451847,\n",
       "        -0.87076747, -0.67312009, -0.72992882, -0.73076233, -0.65254826,\n",
       "        -0.69986937, -0.78484216, -0.62992056, -0.63911753, -0.71397884,\n",
       "        -0.81053256, -0.49428806, -0.6667543 , -0.76451949, -0.67751569,\n",
       "        -0.57284246, -0.80084063, -0.57140035, -0.78039435, -0.66980748,\n",
       "        -0.82499197, -0.81161642, -0.70423257, -0.77760073, -0.73081201,\n",
       "        -0.75512798, -0.71755494, -0.72308358, -0.68200278, -0.53850817,\n",
       "        -0.77235467, -0.69786645, -0.76361176, -0.61617075, -0.64487535,\n",
       "        -0.64784173, -0.72102486, -0.74584954, -0.68430607, -0.84343755,\n",
       "        -0.77456351, -0.72472318, -0.77035244, -0.79060401, -0.60377574]),\n",
       " array([1.56374011, 1.56268487, 1.56328659, 1.56396433, 1.56387793,\n",
       "        1.56415402, 1.56323837, 1.56349081, 1.56349454, 1.56314736,\n",
       "        1.5633569 , 1.56373958, 1.5630472 , 1.56308793, 1.56341963,\n",
       "        1.56385912, 1.56243691, 1.5632102 , 1.56364666, 1.56325782,\n",
       "        1.56279321, 1.56381371, 1.56278675, 1.56371914, 1.56322371,\n",
       "        1.56392772, 1.56386423, 1.56337628, 1.56370633, 1.56349476,\n",
       "        1.5636041 , 1.56343556, 1.56346022, 1.56327769, 1.56263871,\n",
       "        1.56368234, 1.56334801, 1.56364254, 1.56298625, 1.56311341,\n",
       "        1.56312653, 1.56345103, 1.56356224, 1.56328789, 1.564017  ,\n",
       "        1.56369243, 1.56346754, 1.56367321, 1.56376617, 1.56293119])]"
      ]
     },
     "execution_count": 15,
     "metadata": {},
     "output_type": "execute_result"
    }
   ],
   "source": [
    "## BEGIN CODE(1 line of code for each)\n",
    "#for sine\n",
    "sin_arr =np.sin(cube_root_vect * np.pi / 180. )\n",
    "#for cos\n",
    "cos_arr =np.cos(cube_root_vect * np.pi / 180. )\n",
    "#for tan-1\n",
    "tanh_arr =np.arctan(cube_root_vect)\n",
    "## END CODE\n",
    "finale = [sin_arr,cos_arr,tanh_arr]\n",
    "finale"
   ]
  },
  {
   "cell_type": "markdown",
   "metadata": {},
   "source": [
    "# Bonus Task"
   ]
  },
  {
   "cell_type": "markdown",
   "metadata": {},
   "source": [
    "### Normalizing rows\n",
    "\n",
    "Normalization is a common technique we use in Machine Learning and Deep Learning is to normalize our data. Here, by normalization we mean changing x to $ \\frac{x}{\\| x\\|} $ (dividing each row vector of x by its norm).\n",
    "\n",
    "For example, if $$x = \n",
    "\\begin{bmatrix}\n",
    "    0 & 3 & 4 \\\\\n",
    "    2 & 6 & 4 \\\\\n",
    "\\end{bmatrix}\\tag{1}$$ then $$\\| x\\| = np.linalg.norm(x, axis = 1, keepdims = True) = \\begin{bmatrix}\n",
    "    5 \\\\\n",
    "    \\sqrt{56} \\\\\n",
    "\\end{bmatrix}\\tag{2} $$and        $$ x\\_normalized = \\frac{x}{\\| x\\|} = \\begin{bmatrix}\n",
    "    0 & \\frac{3}{5} & \\frac{4}{5} \\\\\n",
    "    \\frac{2}{\\sqrt{56}} & \\frac{6}{\\sqrt{56}} & \\frac{4}{\\sqrt{56}} \\\\\n",
    "\\end{bmatrix}\\tag{3}$$ Note that you can divide matrices of different sizes and it works fine: this is called broadcasting and you're going to learn about it in part 3.\n",
    "\n",
    "\n",
    "**Exercise**: Implement normalizeRows() to normalize the rows of a matrix . After applying this function to an input matrix x, each row of x should be a vector of unit length (meaning length 1)."
   ]
  },
  {
   "cell_type": "code",
   "execution_count": 16,
   "metadata": {},
   "outputs": [],
   "source": [
    "def normalizeRows(x):\n",
    "    \"\"\"\n",
    "    Implement a function that normalizes each row of the matrix x (to have unit length).\n",
    "    \n",
    "    Argument:\n",
    "    x -- A numpy matrix of shape (n, m)\n",
    "    \n",
    "    Returns:\n",
    "    x -- The normalized (by row) numpy matrix. You are allowed to modify x.\n",
    "    \"\"\"\n",
    "    \n",
    "    #Begin Here(≈ 2 lines of code)\n",
    "    # Compute x_norm as the norm 2 of x. Use np.linalg.norm(..., ord = 2, axis = ..., keepdims = True)\n",
    "    x_norm = np.linalg.norm(x, ord = 2, axis = 1, keepdims = True)\n",
    "    \n",
    "\n",
    "    # Divide x by its norm.\n",
    "    x_normf = np.divide(x , x_norm)\n",
    "    \n",
    "    \n",
    "    #END CODE\n",
    "\n",
    "    return x_normf"
   ]
  },
  {
   "cell_type": "code",
   "execution_count": 17,
   "metadata": {},
   "outputs": [
    {
     "name": "stdout",
     "output_type": "stream",
     "text": [
      "normalizeRows(x) = [[0.         0.58123819 0.81373347]\n",
      " [0.81373347 0.34874292 0.46499055]]\n"
     ]
    }
   ],
   "source": [
    "x = np.array([\n",
    "    [0, 5, 7],\n",
    "    [7, 3, 4]])\n",
    "print(\"normalizeRows(x) = \" + str(normalizeRows(x)))"
   ]
  },
  {
   "cell_type": "markdown",
   "metadata": {},
   "source": [
    "**Expected Output**: \n",
    "\n",
    "<table style=\"width:60%\">\n",
    "\n",
    "   <tr> \n",
    "       <td> normalizeRows(x) </td> \n",
    "       <td> [[0.          0.58123819  0.81373347]\n",
    " <br>[0.81373347  0.34874292  0.46499055]</td> \n",
    "     </tr>\n",
    "    \n",
    "   \n",
    "</table>"
   ]
  },
  {
   "cell_type": "markdown",
   "metadata": {},
   "source": [
    "## Create submission file"
   ]
  },
  {
   "cell_type": "code",
   "execution_count": 18,
   "metadata": {},
   "outputs": [],
   "source": [
    "## Assign the name of the variable containing the final matrix of Task6 to VARIABLE_NAME variable.\n",
    "\n",
    "VARIABLE_NAME = finale\n",
    "with open('submission.pickle', 'wb') as p:\n",
    "    pickle.dump(VARIABLE_NAME, p)"
   ]
  },
  {
   "cell_type": "code",
   "execution_count": null,
   "metadata": {},
   "outputs": [],
   "source": []
  }
 ],
 "metadata": {
  "kernelspec": {
   "display_name": "Python 3",
   "language": "python",
   "name": "python3"
  },
  "language_info": {
   "codemirror_mode": {
    "name": "ipython",
    "version": 3
   },
   "file_extension": ".py",
   "mimetype": "text/x-python",
   "name": "python",
   "nbconvert_exporter": "python",
   "pygments_lexer": "ipython3",
   "version": "3.7.0"
  }
 },
 "nbformat": 4,
 "nbformat_minor": 2
}
