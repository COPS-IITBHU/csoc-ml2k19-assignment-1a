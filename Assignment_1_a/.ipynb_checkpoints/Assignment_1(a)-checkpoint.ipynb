{
 "cells": [
  {
   "cell_type": "code",
   "execution_count": 19,
   "metadata": {},
   "outputs": [],
   "source": [
    "import pickle\n",
    "import numpy as np"
   ]
  },
  {
   "cell_type": "markdown",
   "metadata": {},
   "source": [
    "### About libraries\n",
    "Numpy is a very useful python library. Using [NumPy](http://cs231n.github.io/python-numpy-tutorial/), mathematical and logical operations on arrays can be performed.\n",
    "<br>The [pickle](https://www.youtube.com/watch?v=2Tw39kZIbhs) module implements a fundamental, but powerful algorithm for serializing and de-serializing a Python object structure."
   ]
  },
  {
   "cell_type": "code",
   "execution_count": 20,
   "metadata": {},
   "outputs": [],
   "source": [
    "## Code to load the array\n",
    "with open('array.pickle', 'rb') as p:\n",
    "    arr = pickle.load(p)"
   ]
  },
  {
   "cell_type": "markdown",
   "metadata": {},
   "source": [
    "### Task 1: Write the code and check the size of the array"
   ]
  },
  {
   "cell_type": "code",
   "execution_count": 21,
   "metadata": {},
   "outputs": [
    {
     "data": {
      "text/plain": [
       "1000"
      ]
     },
     "execution_count": 21,
     "metadata": {},
     "output_type": "execute_result"
    }
   ],
   "source": [
    "## BEGIN CODE\n",
    "arr.size\n",
    "## END CODE"
   ]
  },
  {
   "cell_type": "markdown",
   "metadata": {},
   "source": [
    "Check that the size of the array (arr) is 1000. Please report in case fo any discrepancy."
   ]
  },
  {
   "cell_type": "markdown",
   "metadata": {},
   "source": [
    "### Task 2: Resize the array to a (40x50) matrix"
   ]
  },
  {
   "cell_type": "code",
   "execution_count": 30,
   "metadata": {},
   "outputs": [
    {
     "data": {
      "text/plain": [
       "array([[1.53725789e+01, 5.73068830e+01, 5.61011700e+01, ...,\n",
       "        6.72182919e+01, 1.12170433e+01, 2.46297923e+01],\n",
       "       [8.85893454e+01, 2.64178537e+01, 3.31570155e+01, ...,\n",
       "        8.74072680e+01, 6.73119647e+01, 2.33679954e+01],\n",
       "       [2.79538231e+00, 7.56172871e+01, 4.09169304e+01, ...,\n",
       "        6.05752603e+01, 6.26552154e+01, 9.36208427e+01],\n",
       "       ...,\n",
       "       [8.81098046e+01, 1.15227103e+01, 7.45295249e+01, ...,\n",
       "        9.96121822e+01, 7.57435221e+01, 5.60440612e+01],\n",
       "       [9.91893868e+01, 6.93302630e-02, 9.84972492e+01, ...,\n",
       "        9.93826012e+01, 2.20436768e+01, 4.44780392e+01],\n",
       "       [6.63677472e+01, 8.77094315e+01, 5.49465129e+01, ...,\n",
       "        4.77126384e+01, 4.88871239e+01, 3.47082854e+01]])"
      ]
     },
     "execution_count": 30,
     "metadata": {},
     "output_type": "execute_result"
    }
   ],
   "source": [
    "## BEGIN CODE\n",
    "a = np.resize(arr, (40, 50))\n",
    "a\n",
    "## END CODE"
   ]
  },
  {
   "cell_type": "markdown",
   "metadata": {},
   "source": [
    "### Task 3: Find the transpose of this matrix"
   ]
  },
  {
   "cell_type": "code",
   "execution_count": 31,
   "metadata": {},
   "outputs": [
    {
     "data": {
      "text/plain": [
       "array([[1.53725789e+01, 8.85893454e+01, 2.79538231e+00, ...,\n",
       "        8.81098046e+01, 9.91893868e+01, 6.63677472e+01],\n",
       "       [5.73068830e+01, 2.64178537e+01, 7.56172871e+01, ...,\n",
       "        1.15227103e+01, 6.93302630e-02, 8.77094315e+01],\n",
       "       [5.61011700e+01, 3.31570155e+01, 4.09169304e+01, ...,\n",
       "        7.45295249e+01, 9.84972492e+01, 5.49465129e+01],\n",
       "       ...,\n",
       "       [6.72182919e+01, 8.74072680e+01, 6.05752603e+01, ...,\n",
       "        9.96121822e+01, 9.93826012e+01, 4.77126384e+01],\n",
       "       [1.12170433e+01, 6.73119647e+01, 6.26552154e+01, ...,\n",
       "        7.57435221e+01, 2.20436768e+01, 4.88871239e+01],\n",
       "       [2.46297923e+01, 2.33679954e+01, 9.36208427e+01, ...,\n",
       "        5.60440612e+01, 4.44780392e+01, 3.47082854e+01]])"
      ]
     },
     "execution_count": 31,
     "metadata": {},
     "output_type": "execute_result"
    }
   ],
   "source": [
    "## BEGIN CODE\n",
    "a_t = a.T\n",
    "a_t\n",
    "## END CODE"
   ]
  },
  {
   "cell_type": "markdown",
   "metadata": {},
   "source": [
    "### Task 3: Find the dot product of the matrices created in Tasks 2 & 3"
   ]
  },
  {
   "cell_type": "code",
   "execution_count": 32,
   "metadata": {},
   "outputs": [
    {
     "data": {
      "text/plain": [
       "array([[146849.01683828, 135460.4747245 , 134488.05934036, ...,\n",
       "        126892.30150792, 114064.23128039, 121282.46252407],\n",
       "       [135460.4747245 , 211602.24444005, 157652.98313366, ...,\n",
       "        174288.73215696, 150709.65242627, 154781.09202476],\n",
       "       [134488.05934036, 157652.98313366, 198261.10301209, ...,\n",
       "        150969.6939897 , 143151.62043831, 143072.59636798],\n",
       "       ...,\n",
       "       [126892.30150792, 174288.73215696, 150969.6939897 , ...,\n",
       "        177862.55697498, 146258.08959271, 137981.57604992],\n",
       "       [114064.23128039, 150709.65242627, 143151.62043831, ...,\n",
       "        146258.08959271, 172509.69432006, 130355.17856673],\n",
       "       [121282.46252407, 154781.09202476, 143072.59636798, ...,\n",
       "        137981.57604992, 130355.17856673, 178723.08288711]])"
      ]
     },
     "execution_count": 32,
     "metadata": {},
     "output_type": "execute_result"
    }
   ],
   "source": [
    "## BEGIN CODE\n",
    "ans = a.dot(a_t)\n",
    "ans\n",
    "## END CODE"
   ]
  },
  {
   "cell_type": "markdown",
   "metadata": {},
   "source": [
    "### Task 4: Find the row wise sum of the resulting matrix"
   ]
  },
  {
   "cell_type": "code",
   "execution_count": 33,
   "metadata": {},
   "outputs": [
    {
     "data": {
      "text/plain": [
       "array([4730884.55619915, 6004224.7991578 , 5558368.87554314,\n",
       "       4954420.64880077, 5255519.75485327, 4441607.59181217,\n",
       "       4859420.36567881, 5016088.45443283, 4918636.73200668,\n",
       "       4650062.15478333, 5792162.20101845, 5524124.15843443,\n",
       "       5320947.49164873, 4282574.36790255, 5389618.83252321,\n",
       "       4509016.64482309, 4961576.1447521 , 5455585.03892333,\n",
       "       5173588.40764424, 5362484.67934969, 4730884.55619915,\n",
       "       6004224.7991578 , 5558368.87554314, 4954420.64880077,\n",
       "       5255519.75485327, 4441607.59181217, 4859420.36567881,\n",
       "       5016088.45443283, 4918636.73200668, 4650062.15478333,\n",
       "       5792162.20101845, 5524124.15843443, 5320947.49164873,\n",
       "       4282574.36790255, 5389618.83252321, 4509016.64482309,\n",
       "       4961576.1447521 , 5455585.03892333, 5173588.40764424,\n",
       "       5362484.67934969])"
      ]
     },
     "execution_count": 33,
     "metadata": {},
     "output_type": "execute_result"
    }
   ],
   "source": [
    "## BEGIN CODE\n",
    "row_wise_sum = np.sum(ans, axis=1)\n",
    "row_wise_sum\n",
    "## END CODE"
   ]
  },
  {
   "cell_type": "markdown",
   "metadata": {},
   "source": [
    "### Task 5: Find the cube root of all elements in the resulting matrix"
   ]
  },
  {
   "cell_type": "code",
   "execution_count": 34,
   "metadata": {},
   "outputs": [
    {
     "data": {
      "text/plain": [
       "array([167.87297366, 181.75469911, 177.13965247, 170.47641047,\n",
       "       173.86222143, 164.37914944, 169.3797509 , 171.1808041 ,\n",
       "       170.06498936, 166.91149714, 179.58920932, 176.77512121,\n",
       "       174.58073775, 162.39337375, 175.32856729, 165.20655668,\n",
       "       170.55844202, 176.0409796 , 172.9540057 , 175.03384031,\n",
       "       167.87297366, 181.75469911, 177.13965247, 170.47641047,\n",
       "       173.86222143, 164.37914944, 169.3797509 , 171.1808041 ,\n",
       "       170.06498936, 166.91149714, 179.58920932, 176.77512121,\n",
       "       174.58073775, 162.39337375, 175.32856729, 165.20655668,\n",
       "       170.55844202, 176.0409796 , 172.9540057 , 175.03384031])"
      ]
     },
     "execution_count": 34,
     "metadata": {},
     "output_type": "execute_result"
    }
   ],
   "source": [
    "## BEGIN CODE\n",
    "cube_root = np.cbrt(row_wise_sum)\n",
    "cube_root\n",
    "## END CODE"
   ]
  },
  {
   "cell_type": "markdown",
   "metadata": {},
   "source": [
    "### Task 6: Find the sine,cos and tan-1 value of all elements in the resulting matrix"
   ]
  },
  {
   "cell_type": "code",
   "execution_count": 35,
   "metadata": {},
   "outputs": [
    {
     "name": "stdout",
     "output_type": "stream",
     "text": [
      "[-0.97962044 -0.44186341  0.93577966  0.7382061  -0.87941192  0.8501823\n",
      " -0.26311774  0.99935223  0.40683443 -0.39593561 -0.49551537  0.74858979\n",
      " -0.97538291 -0.82457141 -0.56515515  0.96298191  0.79099815  0.1115583\n",
      " -0.16564277 -0.7804269  -0.97962044 -0.44186341  0.93577966  0.7382061\n",
      " -0.87941192  0.8501823  -0.26311774  0.99935223  0.40683443 -0.39593561\n",
      " -0.49551537  0.74858979 -0.97538291 -0.82457141 -0.56515515  0.96298191\n",
      "  0.79099815  0.1115583  -0.16564277 -0.7804269 ]\n",
      "[-0.20085762  0.89708234  0.35258536  0.67457524 -0.47606163  0.52648842\n",
      "  0.96476373  0.03598774  0.91350191 -0.91827828 -0.86859917  0.66303343\n",
      "  0.22051796  0.56575788  0.82498464 -0.26956604  0.61181854  0.99375789\n",
      " -0.98618582  0.62524704 -0.20085762  0.89708234  0.35258536  0.67457524\n",
      " -0.47606163  0.52648842  0.96476373  0.03598774  0.91350191 -0.91827828\n",
      " -0.86859917  0.66303343  0.22051796  0.56575788  0.82498464 -0.26956604\n",
      "  0.61181854  0.99375789 -0.98618582  0.62524704]\n",
      "[1.56483951 1.56529446 1.56515112 1.56493048 1.56504471 1.56471291\n",
      " 1.5648925  1.56495462 1.56491629 1.5648052  1.56522812 1.56513948\n",
      " 1.56506838 1.56463852 1.56509281 1.56474337 1.5649333  1.56511589\n",
      " 1.56501451 1.56508321 1.56483951 1.56529446 1.56515112 1.56493048\n",
      " 1.56504471 1.56471291 1.5648925  1.56495462 1.56491629 1.5648052\n",
      " 1.56522812 1.56513948 1.56506838 1.56463852 1.56509281 1.56474337\n",
      " 1.5649333  1.56511589 1.56501451 1.56508321]\n"
     ]
    }
   ],
   "source": [
    "## BEGIN CODE(1 line of code for each)\n",
    "#for sine\n",
    "sine = np.sin(cube_root)\n",
    "print(sine)\n",
    "#for cos\n",
    "cosine = np.cos(cube_root)\n",
    "print(cosine)\n",
    "#for tan-1\n",
    "tan_1 = np.arctan(cube_root)\n",
    "print(tan_1)\n",
    "## END CODE"
   ]
  },
  {
   "cell_type": "markdown",
   "metadata": {},
   "source": [
    "# Bonus Task"
   ]
  },
  {
   "cell_type": "markdown",
   "metadata": {},
   "source": [
    "### Normalizing rows\n",
    "\n",
    "Normalization is a common technique we use in Machine Learning and Deep Learning is to normalize our data. Here, by normalization we mean changing x to $ \\frac{x}{\\| x\\|} $ (dividing each row vector of x by its norm).\n",
    "\n",
    "For example, if $$x = \n",
    "\\begin{bmatrix}\n",
    "    0 & 3 & 4 \\\\\n",
    "    2 & 6 & 4 \\\\\n",
    "\\end{bmatrix}\\tag{1}$$ then $$\\| x\\| = np.linalg.norm(x, axis = 1, keepdims = True) = \\begin{bmatrix}\n",
    "    5 \\\\\n",
    "    \\sqrt{56} \\\\\n",
    "\\end{bmatrix}\\tag{2} $$and        $$ x\\_normalized = \\frac{x}{\\| x\\|} = \\begin{bmatrix}\n",
    "    0 & \\frac{3}{5} & \\frac{4}{5} \\\\\n",
    "    \\frac{2}{\\sqrt{56}} & \\frac{6}{\\sqrt{56}} & \\frac{4}{\\sqrt{56}} \\\\\n",
    "\\end{bmatrix}\\tag{3}$$ Note that you can divide matrices of different sizes and it works fine: this is called broadcasting and you're going to learn about it in part 3.\n",
    "\n",
    "\n",
    "**Exercise**: Implement normalizeRows() to normalize the rows of a matrix . After applying this function to an input matrix x, each row of x should be a vector of unit length (meaning length 1)."
   ]
  },
  {
   "cell_type": "code",
   "execution_count": 36,
   "metadata": {},
   "outputs": [],
   "source": [
    "def normalizeRows(x):\n",
    "    \"\"\"\n",
    "    Implement a function that normalizes each row of the matrix x (to have unit length).\n",
    "    \n",
    "    Argument:\n",
    "    x -- A numpy matrix of shape (n, m)\n",
    "    \n",
    "    Returns:\n",
    "    x -- The normalized (by row) numpy matrix. You are allowed to modify x.\n",
    "    \"\"\"\n",
    "    \n",
    "    #Begin Here(≈ 2 lines of code)\n",
    "    # Compute x_norm as the norm 2 of x. Use np.linalg.norm(..., ord = 2, axis = ..., keepdims = True)\n",
    "    x_norm = np.linalg.norm(x, ord=2, axis=1, keepdims=True)\n",
    "    \n",
    "    # Divide x by its norm.\n",
    "    x_normf = np.divide(x, x_norm)\n",
    "    \n",
    "    #END CODE\n",
    "\n",
    "    return x_normf"
   ]
  },
  {
   "cell_type": "code",
   "execution_count": 37,
   "metadata": {},
   "outputs": [
    {
     "name": "stdout",
     "output_type": "stream",
     "text": [
      "normalizeRows(x) = [[0.         0.58123819 0.81373347]\n",
      " [0.81373347 0.34874292 0.46499055]]\n"
     ]
    }
   ],
   "source": [
    "x = np.array([\n",
    "    [0, 5, 7],\n",
    "    [7, 3, 4]])\n",
    "print(\"normalizeRows(x) = \" + str(normalizeRows(x)))"
   ]
  },
  {
   "cell_type": "markdown",
   "metadata": {},
   "source": [
    "**Expected Output**: \n",
    "\n",
    "<table style=\"width:60%\">\n",
    "\n",
    "   <tr> \n",
    "       <td> normalizeRows(x) </td> \n",
    "       <td> [[0.          0.58123819  0.81373347]\n",
    " <br>[0.81373347  0.34874292  0.46499055]</td> \n",
    "     </tr>\n",
    "    \n",
    "   \n",
    "</table>"
   ]
  },
  {
   "cell_type": "markdown",
   "metadata": {},
   "source": [
    "## Create submission file"
   ]
  },
  {
   "cell_type": "code",
   "execution_count": null,
   "metadata": {},
   "outputs": [],
   "source": [
    "## Assign the name of the variable containing the final matrix of Task6 to VARIABLE_NAME variable.\n",
    "\n",
    "VARIABLE_NAME = \n",
    "with open('submission.pickle', 'wb') as p:\n",
    "    pickle.dump(VARIABLE_NAME, p)"
   ]
  }
 ],
 "metadata": {
  "kernelspec": {
   "display_name": "Python 3",
   "language": "python",
   "name": "python3"
  },
  "language_info": {
   "codemirror_mode": {
    "name": "ipython",
    "version": 3
   },
   "file_extension": ".py",
   "mimetype": "text/x-python",
   "name": "python",
   "nbconvert_exporter": "python",
   "pygments_lexer": "ipython3",
   "version": "3.6.5"
  }
 },
 "nbformat": 4,
 "nbformat_minor": 2
}
